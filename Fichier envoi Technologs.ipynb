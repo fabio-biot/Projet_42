{
 "cells": [
  {
   "cell_type": "code",
   "execution_count": null,
   "metadata": {},
   "outputs": [],
   "source": [
    "import pandas as pd\n",
    "import os\n",
    "\n",
    "\n",
    "\n",
    "periode = \"202504\"\n",
    "dossier_path = \"C:\\\\Users\\\\FRCHAPUTFA\\\\OneDrive - NESTLE\\\\Documents\\\\Base sell in\\\\Base Sell-In \"+periode\n",
    "\n",
    "annee = periode[0:4]\n",
    "mois = periode[4:6]\n",
    "xlsx = \".xlsx\"\n",
    "fin = \" \"+periode+xlsx\n",
    "date = \"01/\"+mois+\"/\"+annee\n",
    "\n",
    "evolupharm = \"\\\\Evolupharm Guigoz\"+fin\n",
    "giphar = \"\\\\Giphar Guigoz\"+fin\n",
    "centralactive = \"\\\\Centralactive Guigoz\"+fin\n",
    "alliance = \"\\\\Alliance Guigoz\"+fin\n",
    "coalia = \"\\\\Coalia Guigoz\" +fin\n",
    "legall = \"\\\\Le Gall Guigoz\"+fin\n",
    "maxipharma = \"\\\\Maxipharma Guigoz\"+fin\n",
    "pharmasud = \"\\\\Pharmasud Guigoz\"+fin\n",
    "saggitapharma = \"\\\\Sagittapharma Guigoz\"+fin #pyxis parfois \n",
    "santralia = \"\\\\Santralia Guigoz\"+fin\n",
    "synergyphar = \"\\\\Synergiphar Guigoz\"+fin\n",
    "wellcoop = \"\\\\Wellcoop Guigoz\"+fin\n",
    "pharmazon = \"\\\\Pharmazon Guigoz\"+fin\n",
    "pharma10 = \"\\\\Pharma10 Guigoz\"+fin\n",
    "\n",
    "files = [evolupharm, giphar, centralactive,alliance,coalia,legall,maxipharma,pharmasud,saggitapharma,santralia,synergyphar,wellcoop,pharmazon,pharma10]\n",
    "\n",
    "\n",
    "evolupharm, giphar, centralactive,alliance,coalia,legall,maxipharma,pharmasud,saggitapharma,santralia,synergyphar,wellcoop,pharmazon,pharma10 = [dossier_path + file for file in files]"
   ]
  },
  {
   "cell_type": "markdown",
   "metadata": {},
   "source": [
    "Boucle sur les fichiers pour détecter quels sont les fichiers manquants\n",
    "\n",
    "Si le programme plante, convertir en nombre les valeurs du fichier Le Gall "
   ]
  },
  {
   "cell_type": "code",
   "execution_count": 3,
   "metadata": {},
   "outputs": [
    {
     "data": {
      "text/plain": [
       "[]"
      ]
     },
     "execution_count": 3,
     "metadata": {},
     "output_type": "execute_result"
    }
   ],
   "source": [
    "\n",
    "files = [evolupharm, giphar, centralactive,alliance,coalia,legall,maxipharma,pharmasud,saggitapharma,santralia,synergyphar,wellcoop,pharmazon,pharma10]\n",
    "\n",
    "existing_files = []\n",
    "missing_files = []\n",
    "\n",
    "for file in files :\n",
    "    if os.path.exists(file):\n",
    "        existing_files.append(file)\n",
    "    else:\n",
    "        missing_files.append(file)\n",
    "\n",
    "missing_files"
   ]
  },
  {
   "cell_type": "code",
   "execution_count": 4,
   "metadata": {},
   "outputs": [],
   "source": [
    "title_final = [\"CIPCLIENT\",\"TYPE_VENTE\",\"Date\",\"CDCANALDIS\",\"EAN13\",\"MTHTNET\",\"PUHTBRUT\",\"QTE\",\"QTEUG\",\"TXREM\",\"TXTVA\",\"CODEPRODUITsource\"]\n",
    "\n",
    "title_alliance = [\"REPARTITEUR\", \"LABORATOIRE\", \"CIP OFFICINE\", \"ETABLISSEMENT RATTACHEMENT CLIENT\",\"CP DE L'etablissement\", \"Adresse de l'établissement\", \"1\", \"Ville de l'établissement\", \"CODE CLIENT AHR\", \"Nom du client\", \"Date de la facturation\", \"CIP Produit\",\"Libellé produit\", \"1\", \"QTTE Facturée\",\"x\", \"Y\", \"Z\", \"A\", \"B\",\"Montant en PGHT\", \"Montant en PPHHT BRUT\", \"PPHHT Unitaire\",\"Montant de la remise sur facture\", \"Taux de remise\",\"Montant facturé au client\", \"Ope\", \"code\", \"CP CLIENT\",\"Adresse client\", \"Ville Client\", \"BBB\",\"Grpt\"]\n",
    "title_pharmasud = ['établissement', 'Numéro fournisseur', 'Nom fournisseur', 'Référence fournisseur', 'Code article', 'Référence Article', 'Libellé article', 'Famille', 'Type de ligne', 'Quantité vendue', 'Prix unitaire HT', 'Prix unitaire TTC', 'Montant TTC', 'N° facture', 'Date facture', 'Code client', 'Nom client', 'Type de client', 'Code Postal', 'Ville client', 'Référence']\n",
    "title_synergiphar = [\"CODEPRODUITsource\",\"Label\",\"Prix unitaire\",\"QTE\",\"MTHTNET\",\"clientnom\",\"CIPCLIENT\"]\n",
    "title_pharma10 = [\"Date de pièce\",\"CIP Client\",\"Raison sociale\",\"Code Postal\",\"Ville\",\"Code article\",\"Désignation\",\"QteUS\",\"CAHT\"]\n",
    "\n"
   ]
  },
  {
   "cell_type": "code",
   "execution_count": 5,
   "metadata": {},
   "outputs": [],
   "source": [
    "alliance_drop = [\"REPARTITEUR\", \"LABORATOIRE\",\"ETABLISSEMENT RATTACHEMENT CLIENT\",\"CP DE L'etablissement\", \"Adresse de l'établissement\", \"1\", \"Ville de l'établissement\", \"CODE CLIENT AHR\", \"Nom du client\", \"Date de la facturation\",\"Libellé produit\", \"1\",\"x\", \"Y\", \"Z\", \"A\", \"B\",\"Montant en PGHT\", \"Montant en PPHHT BRUT\", \"PPHHT Unitaire\",\"Montant de la remise sur facture\", \"Taux de remise\",\"Ope\", \"code\", \"CP CLIENT\",\"Adresse client\", \"Ville Client\", \"BBB\",\"Grpt\"]\n",
    "alliance_reindex = [\"CIP OFFICINE\",\"TYPE_VENTE\",\"Date\",\"CDCANALDIS\",\"EAN13\",\"Montant facturé au client\",\"PUHTBRUT\",\"QTTE Facturée\",\"QTEUG\",\"TXREM\",\"TXTVA\",\"CIP Produit\"]\n",
    "centralactive_reindex = [\"Code client\",\"TYPE_VENTE\",\"Date\",\"CDCANALDIS\",\"EAN13\",\"Total\",\"PUHTBRUT\",\"Quantité\",\"QTEUG\",\"TXREM\",\"TXTVA\",\"Référence\"]\n",
    "giphar_drop = [\"CODE_PHIE\",\"UGA\",\"TITULAIRE\",\"REF_ARTICLE\",\"DESIGNATION\",\"CODE_POSTAL\",\"ADRESSE1\",\"ADRESSE2\",\"VILLE\",\"DATELIV\",\"DEPOT\"]\n",
    "giphar_reindex =[\"CIP_GERS\",\"TYPE_VENTE\",\"Date\",\"CDCANALDIS\",\"EAN13\",\"MONTANT\",\"PUHTBRUT\",\"Qte\",\"QTEUG\",\"TXREM\",\"TXTVA\",\"CIP13\"]"
   ]
  },
  {
   "cell_type": "markdown",
   "metadata": {},
   "source": [
    "Pharmazon"
   ]
  },
  {
   "cell_type": "code",
   "execution_count": 6,
   "metadata": {},
   "outputs": [],
   "source": [
    "def process_pharmazon(pharmazon=pharmazon):\n",
    "    pharmazon = pd.read_excel(pharmazon)\n",
    "    pharmazon[\"TYPE_VENTE\"] = \"TRF\"\n",
    "    pharmazon[\"CDCANALDIS\"] = \"PZN\"\n",
    "    pharmazon[\"Date\"] = date\n",
    "    pharmazon[\"PUHTBRUT\"] = \"\"\n",
    "    pharmazon[\"EAN13\"] = \"\"\n",
    "    pharmazon[\"QTEUG\"] = \"\"\n",
    "    pharmazon[\"TXREM\"] = \"\"\n",
    "    pharmazon[\"TXTVA\"] = \"5.5\"\n",
    "    pharmazon = pharmazon.reindex(columns=[\"Cip de la pharmacie\",\"TYPE_VENTE\",\"Date\",\"CDCANALDIS\",\"EAN13\",\"CA NET\",\"PUHTBRUT\",\"Quantité\",\"QTEUG\",\"TXREM\",\"TXTVA\",\"EAN\"])\n",
    "    pharmazon.columns = title_final\n",
    "    return pharmazon\n",
    "\n"
   ]
  },
  {
   "cell_type": "markdown",
   "metadata": {},
   "source": [
    "centralactive"
   ]
  },
  {
   "cell_type": "code",
   "execution_count": 7,
   "metadata": {},
   "outputs": [],
   "source": [
    "def process_centralactive(centralactive=centralactive):\n",
    "    centralactive = pd.read_excel(centralactive)\n",
    "    centralactive[\"TYPE_VENTE\"] = \"TRF\"\n",
    "    centralactive[\"CDCANALDIS\"] = \"CAC\"\n",
    "    centralactive[\"Date\"] = date\n",
    "    centralactive[\"PUHTBRUT\"] = \"\"\n",
    "    centralactive[\"EAN13\"] = \"\"\n",
    "    centralactive[\"QTEUG\"] = \"\"\n",
    "    centralactive[\"TXREM\"] = \"\"  \n",
    "    centralactive[\"TXTVA\"] = \"5.5\"\n",
    "    centralactive = centralactive.reindex(columns=[\"Code client\",\"TYPE_VENTE\",\"Date\",\"CDCANALDIS\",\"EAN13\",\"Total\",\"PUHTBRUT\",\"Quantité\",\"QTEUG\",\"TXREM\",\"TXTVA\",\"Référence\"])\n",
    "    centralactive.columns = title_final\n",
    "    return centralactive"
   ]
  },
  {
   "cell_type": "markdown",
   "metadata": {},
   "source": [
    "alliance"
   ]
  },
  {
   "cell_type": "code",
   "execution_count": 8,
   "metadata": {},
   "outputs": [],
   "source": [
    "def process_alliance(alliance=alliance):\n",
    "    alliance = pd.read_excel(alliance,header=None)\n",
    "    alliance.columns = title_alliance\n",
    "    alliance[\"TYPE_VENTE\"] = \"MAR\"\n",
    "    alliance[\"CDCANALDIS\"] = \"ALL\"\n",
    "    alliance[\"Date\"] = date\n",
    "    alliance[\"PUHTBRUT\"] = \"\"\n",
    "    alliance[\"EAN13\"] = \"\"\n",
    "    alliance[\"QTEUG\"] = \"\"\n",
    "    alliance[\"TXREM\"] = \"\"\n",
    "    alliance[\"TXTVA\"] = \"5.5\"\n",
    "    alliance = alliance.drop(alliance_drop,axis=1)\n",
    "    alliance = alliance.reindex(columns=alliance_reindex)\n",
    "    alliance.columns = title_final\n",
    "    return alliance\n"
   ]
  },
  {
   "cell_type": "markdown",
   "metadata": {},
   "source": [
    "Coalia"
   ]
  },
  {
   "cell_type": "code",
   "execution_count": null,
   "metadata": {},
   "outputs": [],
   "source": []
  },
  {
   "cell_type": "code",
   "execution_count": 9,
   "metadata": {},
   "outputs": [],
   "source": [
    "def process_coalia(coalia=coalia):\n",
    "    coalia = pd.read_excel(coalia)\n",
    "    coalia[\"TYPE_VENTE\"] = \"TRF\"\n",
    "    coalia[\"CDCANALDIS\"] = \"COA\"\n",
    "    coalia[\"Date\"] = date\n",
    "    coalia[\"PUHTBRUT\"] = \"\"\n",
    "    coalia[\"EAN13\"] = \"\"\n",
    "    coalia[\"QTEUG\"] = \"\"\n",
    "    coalia[\"TXREM\"] = \"\"\n",
    "    coalia[\"TXTVA\"] = \"5.5\"\n",
    "\t\t\t\t\t\t\t\t\t\t\t\t\t\t\t\n",
    "\n",
    "    coalia.drop([\"Code_CIP\", \"Groupement\",\"Etablissement\",\"Nom_client\",\"Code_UGA\", \"Code_client\", \"Nom_laboratoire\",\"Raison_sociale\",\"Libelle_article\",\"Date_facture\",\"Quantite_commandee\", \"Code_laboratoire\"],axis=1)\n",
    "    coalia = coalia.reindex(columns=[\"CIP_officine\",\"TYPE_VENTE\",\"Date\",\"CDCANALDIS\",\"Code_EAN\",\"Valeur_pharmacien\",\"PUHTBRUT\",\"Quantite_livree\",\"QTEUG\",\"TXREM\",\"TXTVA\",\"Code_EAN\"])\n",
    "    coalia.columns = title_final\n",
    "    return coalia\n"
   ]
  },
  {
   "cell_type": "markdown",
   "metadata": {},
   "source": [
    "Evolupharm"
   ]
  },
  {
   "cell_type": "code",
   "execution_count": 10,
   "metadata": {},
   "outputs": [],
   "source": [
    "def process_evolupharm(evolupharm=evolupharm):\n",
    "    evolupharm = pd.read_excel(evolupharm,header=None)\n",
    "    evolupharm = evolupharm.iloc[4:,:]\n",
    "    title_base = [\"Plate-forme\",\"Fournisseur\",\"Mois\",\"Année\",\"CIP\",\"Code UGA\",\"Nom Pharmacien\",\"Raison Sociale\",\"Code Postal\",\"Bureau Distributeur\",\"Telephone\",\"N° Facture\",\"Date Facture\",\"Code CIP\",\"Designation\",\"Qte\",\"PrixUnite\",\"Montant\",\"Gencod\"]\n",
    "    evolupharm.columns = title_base\n",
    "    evolupharm[\"TYPE_VENTE\"] = \"TRF\"\n",
    "    evolupharm[\"CDCANALDIS\"] = \"EVO\"\n",
    "    evolupharm[\"Date\"] = date\n",
    "    evolupharm[\"PUHTBRUT\"] = \"\"\n",
    "    evolupharm[\"EAN13\"] = \"\"\n",
    "    evolupharm[\"QTEUG\"] = \"\"\n",
    "    evolupharm[\"TXREM\"] = \"\"\n",
    "    evolupharm[\"TXTVA\"] = \"5.5\"\n",
    "    evolupharm.drop([\"Plate-forme\",\"Fournisseur\",\"Mois\",\"Année\",\"Code UGA\",\"Nom Pharmacien\",\"Raison Sociale\",\"Code Postal\",\"Bureau Distributeur\",\"Telephone\",\"N° Facture\",\"Date Facture\",\"Code CIP\",\"Designation\",\"PrixUnite\"],axis=1)\n",
    "    evolupharm = evolupharm.reindex(columns=[\"CIP\",\"TYPE_VENTE\",\"Date\",\"CDCANALDIS\",\"EAN13\",\"Montant\",\"PUHTBRUT\",\"Qte\",\"QTEUG\",\"TXREM\",\"TXTVA\",\"Gencod\"])\n",
    "    evolupharm.columns = title_final\n",
    "    return evolupharm\n"
   ]
  },
  {
   "cell_type": "markdown",
   "metadata": {},
   "source": [
    "Giphar"
   ]
  },
  {
   "cell_type": "code",
   "execution_count": 11,
   "metadata": {},
   "outputs": [],
   "source": [
    "def process_giphar(giphar=giphar):\n",
    "    giphar = pd.read_excel(giphar)\n",
    "    giphar[\"TYPE_VENTE\"] = \"TRF\"\n",
    "    giphar[\"CDCANALDIS\"] = \"GIP\"\n",
    "    giphar[\"Date\"] = date\n",
    "    giphar[\"PUHTBRUT\"] = \"\"\n",
    "    giphar[\"EAN13\"] = \"\"\n",
    "    giphar[\"QTEUG\"] = \"\"\n",
    "    giphar[\"TXREM\"] = \"\"\n",
    "    giphar[\"Qte\"] = \"\"\n",
    "    giphar[\"TXTVA\"] = \"5.5\"\n",
    "    giphar.drop([\"CODE_PHIE\",\"UGA\",\"TITULAIRE\",\"REF_ARTICLE\",\"DESIGNATION\",\"CODE_POSTAL\",\"ADRESSE1\",\"ADRESSE2\",\"VILLE\",\"DATELIV\",\"DEPOT\"],axis=1)\n",
    "    giphar = giphar.reindex(columns=[\"CIP_GERS\",\"TYPE_VENTE\",\"Date\",\"CDCANALDIS\",\"EAN13\",\"MONTANT\",\"PUHTBRUT\",\"Qte\",\"QTEUG\",\"TXREM\",\"TXTVA\",\"CIP13\"])\n",
    "    giphar.columns = title_final\n",
    "    return giphar"
   ]
  },
  {
   "cell_type": "markdown",
   "metadata": {},
   "source": [
    "Le Gall"
   ]
  },
  {
   "cell_type": "code",
   "execution_count": 12,
   "metadata": {},
   "outputs": [],
   "source": [
    "def process_legall(legall=legall):\n",
    "    legall = pd.read_excel(legall)\n",
    "    legall[\"TYPE_VENTE\"] = \"TRF\"\n",
    "    legall[\"CDCANALDIS\"] = \"GAL\"\n",
    "    legall[\"Date\"] = date\n",
    "    legall[\"PUHTBRUT\"] = \"\"\n",
    "    legall[\"EAN13\"] = \"\"\n",
    "    legall[\"QTEUG\"] = \"\"\n",
    "    legall[\"TXREM\"] = \"\"\n",
    "    legall[\"TXTVA\"] = \"5.5\"\n",
    "    legall.drop([\"Nom\",\"Pharmacie\",\"Désignation produit\"],axis=1)\n",
    "    legall = legall.reindex(columns=[\"CIP Pharmacie\",\"TYPE_VENTE\",\"Date\",\"CDCANALDIS\",\"EAN13\",\"Montant achat dépôt\",\"PUHTBRUT\",\"Quantité commandée\",\"QTEUG\",\"TXREM\",\"TXTVA\",\"EAN 13 produit\"])\n",
    "    legall.columns = title_final\n",
    "    return legall\n",
    "\n"
   ]
  },
  {
   "cell_type": "markdown",
   "metadata": {},
   "source": [
    "Pharma10"
   ]
  },
  {
   "cell_type": "code",
   "execution_count": 13,
   "metadata": {},
   "outputs": [],
   "source": [
    "def process_pharma10(pharma10=pharma10):\n",
    "    pharma10 = pd.read_excel(pharma10,header=None)\n",
    "    pharma10.columns = title_pharma10\n",
    "    pharma10 = pharma10.iloc[4:,:]\n",
    "    pharma10[\"TYPE_VENTE\"] = \"TRF\"\n",
    "    pharma10[\"CDCANALDIS\"] = \"PDX\"\n",
    "    pharma10[\"Date\"] = date\n",
    "    pharma10[\"PUHTBRUT\"] = \"\"\n",
    "    pharma10[\"EAN13\"] = \"\"\n",
    "    pharma10[\"QTEUG\"] = \"\"\n",
    "    pharma10[\"TXREM\"] = \"\"\n",
    "    pharma10[\"TXTVA\"] = \"5.5\"\n",
    "    pharma10 = pharma10.reindex(columns=[\"CIP Client\",\"TYPE_VENTE\",\"Date\",\"CDCANALDIS\",\"EAN13\",\"CAHT\",\"PUHTBRUT\",\"QteUS\",\"QTEUG\",\"TXREM\",\"TXTVA\",\"Code article\"])\n",
    "    pharma10.columns = title_final\n",
    "    return pharma10\n",
    "\n"
   ]
  },
  {
   "cell_type": "markdown",
   "metadata": {},
   "source": [
    "Maxipharma"
   ]
  },
  {
   "cell_type": "code",
   "execution_count": 14,
   "metadata": {},
   "outputs": [],
   "source": [
    "def process_maxipharma(maxipharma=maxipharma):\n",
    "    maxipharma = pd.read_excel(maxipharma)\n",
    "    maxipharma[\"TYPE_VENTE\"] = \"TRF\"\n",
    "    maxipharma[\"CDCANALDIS\"] = \"MAX\"\n",
    "    maxipharma[\"Date\"] = date\n",
    "    maxipharma[\"PUHTBRUT\"] = \"\"\n",
    "    maxipharma[\"EAN13\"] = \"\"\n",
    "    maxipharma[\"QTEUG\"] = \"\"\n",
    "    maxipharma[\"TXREM\"] = \"\"\n",
    "    maxipharma[\"TXTVA\"] = \"5.5\"\n",
    "    maxipharma[\"MTHTNET\"] = maxipharma[\"QTE\"]*maxipharma[\"PA_HT\"]\n",
    "    maxipharma.drop([\"MOIS\",\"Num ADELI\",\"NOM PHARMACIE\",\"ADRESSE\",\"CODE POSTAL\",\"VILLE\",\"NOM TITULAIRE\",\"CIP.1\",\"NOM PRODUIT\",\"QTE\",\"PA_HT\",\"NUM.LOT\"],axis=1)\n",
    "    maxipharma = maxipharma.reindex(columns=[\"CIP\",\"TYPE_VENTE\",\"Date\",\"CDCANALDIS\",\"EAN13\",\"MTHTNET\",\"PUHTBRUT\",\"QTE\",\"QTEUG\",\"TXREM\",\"TXTVA\",\"CIP13/EAN\"])\n",
    "    maxipharma.columns = title_final\n",
    "    return maxipharma\n"
   ]
  },
  {
   "cell_type": "markdown",
   "metadata": {},
   "source": [
    "Pharmasud"
   ]
  },
  {
   "cell_type": "code",
   "execution_count": 15,
   "metadata": {},
   "outputs": [],
   "source": [
    "def process_pharmasud(pharmasud=pharmasud):\n",
    "    pharmasud = pd.read_excel(pharmasud,header=None)\n",
    "    pharmasud = pharmasud.iloc[4:,:]\n",
    "    pharmasud.columns = title_pharmasud\n",
    "    pharmasud[\"TYPE_VENTE\"] = \"TRF\"\n",
    "    pharmasud[\"CDCANALDIS\"] = \"PHS\"\n",
    "    pharmasud[\"Date\"] = date\n",
    "    pharmasud[\"PUHTBRUT\"] = \"\"\n",
    "    pharmasud[\"EAN13\"] = \"\"\n",
    "    pharmasud[\"QTEUG\"] = \"\"\n",
    "    pharmasud[\"TXREM\"] = \"\"\n",
    "    pharmasud[\"TXTVA\"] = \"5.5\"\n",
    "    pharmasud = pharmasud.drop(['établissement', 'Numéro fournisseur', 'Nom fournisseur', 'Référence fournisseur', 'Code article', 'Libellé article', 'Famille', 'Type de ligne', 'Prix unitaire HT', 'Prix unitaire TTC','N° facture', 'Date facture','Nom client', 'Type de client', 'Code Postal', 'Ville client', 'Référence'],axis=1)\n",
    "    pharmasud = pharmasud.reindex(columns=[\"Code client\",\"TYPE_VENTE\",\"Date\",\"CDCANALDIS\",\"EAN13\",\"Montant TTC\",\"PUHTBRUT\",\"Quantité vendue\",\"QTEUG\",\"TXREM\",\"TXTVA\",\"Référence Article\"])\n",
    "    pharmasud.columns = title_final\n",
    "    return pharmasud\n"
   ]
  },
  {
   "cell_type": "markdown",
   "metadata": {},
   "source": [
    "Saggitapharma"
   ]
  },
  {
   "cell_type": "code",
   "execution_count": 16,
   "metadata": {},
   "outputs": [],
   "source": [
    "def process_saggitapharma(saggitapharma=saggitapharma):\n",
    "    saggitapharma = pd.read_excel(saggitapharma)\n",
    "    saggitapharma[\"TYPE_VENTE\"] = \"TRF\"\n",
    "    saggitapharma[\"CDCANALDIS\"] = \"PYX\"\n",
    "    saggitapharma[\"Date\"] = date\n",
    "    saggitapharma[\"PUHTBRUT\"] = \"\"\n",
    "    saggitapharma[\"EAN13\"] = \"\"\n",
    "    saggitapharma[\"QTEUG\"] = \"\"\n",
    "    saggitapharma[\"TXREM\"] = \"\"\n",
    "    saggitapharma[\"TXTVA\"] = \"5.5\"\n",
    "    saggitapharma = saggitapharma.drop(['Nom Pharmacie', 'Adresse Pharmacie', 'Code postal', 'Ville', 'Titulaire', 'Département', 'UGA', 'CIP Produit', 'Nom Produit', 'Prix Unitaire TTC', 'Total HT', 'Date Facturation', 'Prix catalogue HT', 'Montant Brut HT', 'Taux de remise', 'Remise HT', 'CIP13', 'TVA', 'No Cmde', 'Date Commande Inversée'],axis=1)\n",
    "    saggitapharma = saggitapharma.reindex(columns=[\"CIP Pharmacie\",\"TYPE_VENTE\",\"Date\",\"CDCANALDIS\",\"EAN13\",\"Total TTC\",\"PUHTBRUT\",\"Quantité\",\"QTEUG\",\"TXREM\",\"TXTVA\",\"EAN\"])\n",
    "    saggitapharma.columns = title_final \n",
    "    return saggitapharma"
   ]
  },
  {
   "cell_type": "markdown",
   "metadata": {},
   "source": [
    "Santralia"
   ]
  },
  {
   "cell_type": "code",
   "execution_count": 17,
   "metadata": {},
   "outputs": [],
   "source": [
    "def process_santralia(santralia=santralia):\n",
    "    santralia = pd.read_excel(santralia)\n",
    "    santralia[\"TYPE_VENTE\"] = \"TRF\"\n",
    "    santralia[\"CDCANALDIS\"] = \"SAN\"\n",
    "    santralia[\"Date\"] = date\n",
    "    santralia[\"PUHTBRUT\"] = \"\"\n",
    "    santralia[\"EAN13\"] = \"\"\n",
    "    santralia[\"QTEUG\"] = \"\"\n",
    "    santralia[\"TXREM\"] = \"\"\n",
    "    santralia[\"TXTVA\"] = \"5.5\"\n",
    "    santralia = santralia.drop([\"RSCLT \",\"CPOST \",\"UGA \",\"LIBART \",\"MOIS \",\"MARCHE \"],axis=1)\n",
    "    santralia = santralia.reindex(columns=[\"CIPPV \",\"TYPE_VENTE\",\"Date\",\"CDCANALDIS\",\"EAN13\",\"NETHT \",\"PUHTBRUT\",\"QTEFACT \",\"QTEUG\",\"TXREM\",\"TXTVA\",\"CDART \"])\n",
    "    santralia.columns = title_final\n",
    "    return santralia"
   ]
  },
  {
   "cell_type": "markdown",
   "metadata": {},
   "source": [
    "Synergyphar"
   ]
  },
  {
   "cell_type": "code",
   "execution_count": 18,
   "metadata": {},
   "outputs": [],
   "source": [
    "def process_synergyphar(synergyphar=synergyphar):\n",
    "    synergyphar = pd.read_excel(synergyphar)\n",
    "    synergyphar = synergyphar.dropna(axis=0)\n",
    "    synergyphar = synergyphar[synergyphar['CAP SYNERGIPHAR'].str.contains('>')]\n",
    "    synergyphar.columns = title_synergiphar\n",
    "    synergyphar[\"TYPE_VENTE\"] = \"TRF\"\n",
    "    synergyphar[\"CDCANALDIS\"] = \"SYN\"\n",
    "    synergyphar[\"Date\"] = date\n",
    "    synergyphar[\"PUHTBRUT\"] = \"\"\n",
    "    synergyphar[\"EAN13\"] = \"\"\n",
    "    synergyphar[\"QTEUG\"] = \"\"\n",
    "    synergyphar[\"TXREM\"] = \"\"\n",
    "    synergyphar[\"TXTVA\"] = \"5.5\"\n",
    "    synergyphar['CODEPRODUITsource'] = synergyphar['CODEPRODUITsource'].str.replace('> ', '')\n",
    "    synergyphar = synergyphar.drop([\"Label\",\"Prix unitaire\",\"clientnom\"],axis=1)\n",
    "    synergyphar = synergyphar.reindex(columns=[\"CIPCLIENT\",\"TYPE_VENTE\",\"Date\",\"CDCANALDIS\",\"EAN13\",\"MTHTNET\",\"PUHTBRUT\",\"QTE\",\"QTEUG\",\"TXREM\",\"TXTVA\",\"CODEPRODUITsource\"])\n",
    "    return synergyphar"
   ]
  },
  {
   "cell_type": "markdown",
   "metadata": {},
   "source": [
    "Wellcoop"
   ]
  },
  {
   "cell_type": "code",
   "execution_count": 19,
   "metadata": {},
   "outputs": [],
   "source": [
    "def process_wellcoop(wellcoop=wellcoop):\n",
    "    wellcoop = pd.read_excel(wellcoop)\n",
    "    wellcoop = wellcoop.drop([\"NOM\",\"Numero de facture\",\"Numero de BL\",\"Type Facture\",\"date facture\",\"Code Labo\",\"Raison sociale\", \"UGA\",\"adresse\",\"cp\",\"ville\",\"Pays\",\"genre client\",'NoClient',\"date commande\",'Reference Cde',\"designation produit\",\"quantite gratuite\",\"prix unitaire\",\"remise\"],axis=1)\n",
    "    wellcoop[\"TYPE_VENTE\"] = \"TRF\"\n",
    "    wellcoop[\"CDCANALDIS\"] = \"OBJ\"\n",
    "    wellcoop[\"Date\"] = date\n",
    "    wellcoop[\"PUHTBRUT\"] = \"\"\n",
    "    wellcoop[\"EAN13\"] = \"\"\n",
    "    wellcoop[\"QTEUG\"] = \"\"\n",
    "    wellcoop[\"TXREM\"] = \"\"\n",
    "    wellcoop[\"TXTVA\"] = \"5.5\"\n",
    "    wellcoop = wellcoop.reindex(columns=[\"CIP Client\",\"TYPE_VENTE\",\"Date\",\"CDCANALDIS\",\"EAN13\",\"NETHT Ligne\",\"PUHTBRUT\",\"Quantite vente\",\"QTEUG\",\"TXREM\",\"TXTVA\",\"Code Produit\"])\n",
    "    wellcoop.columns = title_final\n",
    "    return wellcoop"
   ]
  },
  {
   "cell_type": "code",
   "execution_count": 20,
   "metadata": {},
   "outputs": [],
   "source": [
    "files = [\n",
    "    evolupharm,\n",
    "    centralactive,\n",
    "    alliance,\n",
    "    giphar,\n",
    "    coalia,\n",
    "    legall,\n",
    "    maxipharma,\n",
    "    pharmasud,\n",
    "    saggitapharma,\n",
    "    santralia,\n",
    "    synergyphar,\n",
    "    wellcoop,\n",
    "    pharmazon,\n",
    "    pharma10\n",
    "    ]\n",
    "\n",
    "\n",
    "functions = [\n",
    "    process_evolupharm,\n",
    "    process_centralactive,\n",
    "    process_alliance,\n",
    "    process_giphar,\n",
    "    process_coalia,\n",
    "    process_legall,\n",
    "    process_maxipharma,\n",
    "    process_pharmasud,\n",
    "    process_saggitapharma,\n",
    "    process_santralia,\n",
    "    process_synergyphar,\n",
    "    process_wellcoop,\n",
    "    process_pharmazon,\n",
    "    process_pharma10\n",
    "    ]\n",
    "\n",
    "\n",
    "function_files = dict(zip(files,functions))"
   ]
  },
  {
   "cell_type": "code",
   "execution_count": 21,
   "metadata": {},
   "outputs": [
    {
     "name": "stderr",
     "output_type": "stream",
     "text": [
      "c:\\Users\\FRCHAPUTFA\\AppData\\Local\\anaconda3\\Lib\\site-packages\\openpyxl\\styles\\stylesheet.py:237: UserWarning: Workbook contains no default style, apply openpyxl's default\n",
      "  warn(\"Workbook contains no default style, apply openpyxl's default\")\n",
      "c:\\Users\\FRCHAPUTFA\\AppData\\Local\\anaconda3\\Lib\\site-packages\\openpyxl\\styles\\stylesheet.py:237: UserWarning: Workbook contains no default style, apply openpyxl's default\n",
      "  warn(\"Workbook contains no default style, apply openpyxl's default\")\n"
     ]
    }
   ],
   "source": [
    "processed_dfs = []\n",
    "\n",
    "for file in existing_files:\n",
    "    if file in function_files:\n",
    "        processed_df = function_files[file](file)\n",
    "        processed_dfs.append(processed_df)"
   ]
  },
  {
   "cell_type": "code",
   "execution_count": 22,
   "metadata": {},
   "outputs": [
    {
     "name": "stdout",
     "output_type": "stream",
     "text": [
      "Traitement terminé et fichier sauvegardé.\n",
      "ATTENTION AUX FICHIERS MANQUANTS !!!\n",
      "[]\n"
     ]
    }
   ],
   "source": [
    "if processed_dfs:\n",
    "    df_final = pd.concat(processed_dfs, axis=0)\n",
    "    df_final.to_excel(dossier_path + \"\\\\compilation_\" + periode + \".xlsx\", sheet_name=periode, index=False)\n",
    "    print(\"Traitement terminé et fichier sauvegardé.\")\n",
    "    print(\"ATTENTION AUX FICHIERS MANQUANTS !!!\")\n",
    "    print(missing_files)\n",
    "    \n",
    "else:\n",
    "    print(\"Aucun fichier traité.\")\n",
    "    print(\"Fichiers manquants :\")\n",
    "    print(missing_files)\n",
    "\n"
   ]
  },
  {
   "cell_type": "code",
   "execution_count": 23,
   "metadata": {},
   "outputs": [
    {
     "data": {
      "text/html": [
       "<div>\n",
       "<style scoped>\n",
       "    .dataframe tbody tr th:only-of-type {\n",
       "        vertical-align: middle;\n",
       "    }\n",
       "\n",
       "    .dataframe tbody tr th {\n",
       "        vertical-align: top;\n",
       "    }\n",
       "\n",
       "    .dataframe thead th {\n",
       "        text-align: right;\n",
       "    }\n",
       "</style>\n",
       "<table border=\"1\" class=\"dataframe\">\n",
       "  <thead>\n",
       "    <tr style=\"text-align: right;\">\n",
       "      <th></th>\n",
       "      <th>CIPCLIENT</th>\n",
       "      <th>TYPE_VENTE</th>\n",
       "      <th>Date</th>\n",
       "      <th>CDCANALDIS</th>\n",
       "      <th>EAN13</th>\n",
       "      <th>MTHTNET</th>\n",
       "      <th>PUHTBRUT</th>\n",
       "      <th>QTE</th>\n",
       "      <th>QTEUG</th>\n",
       "      <th>TXREM</th>\n",
       "      <th>TXTVA</th>\n",
       "      <th>CODEPRODUITsource</th>\n",
       "    </tr>\n",
       "  </thead>\n",
       "  <tbody>\n",
       "    <tr>\n",
       "      <th>4</th>\n",
       "      <td>2000786</td>\n",
       "      <td>TRF</td>\n",
       "      <td>01/04/2025</td>\n",
       "      <td>EVO</td>\n",
       "      <td></td>\n",
       "      <td>104.7</td>\n",
       "      <td></td>\n",
       "      <td>5</td>\n",
       "      <td></td>\n",
       "      <td></td>\n",
       "      <td>5.5</td>\n",
       "      <td>8445290251787</td>\n",
       "    </tr>\n",
       "    <tr>\n",
       "      <th>5</th>\n",
       "      <td>2000852</td>\n",
       "      <td>TRF</td>\n",
       "      <td>01/04/2025</td>\n",
       "      <td>EVO</td>\n",
       "      <td></td>\n",
       "      <td>62.82</td>\n",
       "      <td></td>\n",
       "      <td>3</td>\n",
       "      <td></td>\n",
       "      <td></td>\n",
       "      <td>5.5</td>\n",
       "      <td>8445290251787</td>\n",
       "    </tr>\n",
       "    <tr>\n",
       "      <th>6</th>\n",
       "      <td>2000852</td>\n",
       "      <td>TRF</td>\n",
       "      <td>01/04/2025</td>\n",
       "      <td>EVO</td>\n",
       "      <td></td>\n",
       "      <td>33.24</td>\n",
       "      <td></td>\n",
       "      <td>3</td>\n",
       "      <td></td>\n",
       "      <td></td>\n",
       "      <td>5.5</td>\n",
       "      <td>8445290664662</td>\n",
       "    </tr>\n",
       "    <tr>\n",
       "      <th>7</th>\n",
       "      <td>2001027</td>\n",
       "      <td>TRF</td>\n",
       "      <td>01/04/2025</td>\n",
       "      <td>EVO</td>\n",
       "      <td></td>\n",
       "      <td>19.74</td>\n",
       "      <td></td>\n",
       "      <td>1</td>\n",
       "      <td></td>\n",
       "      <td></td>\n",
       "      <td>5.5</td>\n",
       "      <td>8445291421127</td>\n",
       "    </tr>\n",
       "    <tr>\n",
       "      <th>8</th>\n",
       "      <td>2001797</td>\n",
       "      <td>TRF</td>\n",
       "      <td>01/04/2025</td>\n",
       "      <td>EVO</td>\n",
       "      <td></td>\n",
       "      <td>13.64</td>\n",
       "      <td></td>\n",
       "      <td>1</td>\n",
       "      <td></td>\n",
       "      <td></td>\n",
       "      <td>5.5</td>\n",
       "      <td>8000300414479</td>\n",
       "    </tr>\n",
       "    <tr>\n",
       "      <th>...</th>\n",
       "      <td>...</td>\n",
       "      <td>...</td>\n",
       "      <td>...</td>\n",
       "      <td>...</td>\n",
       "      <td>...</td>\n",
       "      <td>...</td>\n",
       "      <td>...</td>\n",
       "      <td>...</td>\n",
       "      <td>...</td>\n",
       "      <td>...</td>\n",
       "      <td>...</td>\n",
       "      <td>...</td>\n",
       "    </tr>\n",
       "    <tr>\n",
       "      <th>108</th>\n",
       "      <td>2264508</td>\n",
       "      <td>TRF</td>\n",
       "      <td>01/04/2025</td>\n",
       "      <td>PDX</td>\n",
       "      <td></td>\n",
       "      <td>37.56</td>\n",
       "      <td></td>\n",
       "      <td>2</td>\n",
       "      <td></td>\n",
       "      <td></td>\n",
       "      <td>5.5</td>\n",
       "      <td>8445290736710</td>\n",
       "    </tr>\n",
       "    <tr>\n",
       "      <th>109</th>\n",
       "      <td>2266861</td>\n",
       "      <td>TRF</td>\n",
       "      <td>01/04/2025</td>\n",
       "      <td>PDX</td>\n",
       "      <td></td>\n",
       "      <td>112.67</td>\n",
       "      <td></td>\n",
       "      <td>6</td>\n",
       "      <td></td>\n",
       "      <td></td>\n",
       "      <td>5.5</td>\n",
       "      <td>8445290736710</td>\n",
       "    </tr>\n",
       "    <tr>\n",
       "      <th>110</th>\n",
       "      <td>2268869</td>\n",
       "      <td>TRF</td>\n",
       "      <td>01/04/2025</td>\n",
       "      <td>PDX</td>\n",
       "      <td></td>\n",
       "      <td>29.82</td>\n",
       "      <td></td>\n",
       "      <td>2</td>\n",
       "      <td></td>\n",
       "      <td></td>\n",
       "      <td>5.5</td>\n",
       "      <td>8445290000811</td>\n",
       "    </tr>\n",
       "    <tr>\n",
       "      <th>111</th>\n",
       "      <td>2284608</td>\n",
       "      <td>TRF</td>\n",
       "      <td>01/04/2025</td>\n",
       "      <td>PDX</td>\n",
       "      <td></td>\n",
       "      <td>20.03</td>\n",
       "      <td></td>\n",
       "      <td>1</td>\n",
       "      <td></td>\n",
       "      <td></td>\n",
       "      <td>5.5</td>\n",
       "      <td>8445290695048</td>\n",
       "    </tr>\n",
       "    <tr>\n",
       "      <th>112</th>\n",
       "      <td>2287546</td>\n",
       "      <td>TRF</td>\n",
       "      <td>01/04/2025</td>\n",
       "      <td>PDX</td>\n",
       "      <td></td>\n",
       "      <td>19.16</td>\n",
       "      <td></td>\n",
       "      <td>1</td>\n",
       "      <td></td>\n",
       "      <td></td>\n",
       "      <td>5.5</td>\n",
       "      <td>8445291421127</td>\n",
       "    </tr>\n",
       "  </tbody>\n",
       "</table>\n",
       "<p>3449 rows × 12 columns</p>\n",
       "</div>"
      ],
      "text/plain": [
       "    CIPCLIENT TYPE_VENTE        Date CDCANALDIS EAN13 MTHTNET PUHTBRUT QTE  \\\n",
       "4     2000786        TRF  01/04/2025        EVO         104.7            5   \n",
       "5     2000852        TRF  01/04/2025        EVO         62.82            3   \n",
       "6     2000852        TRF  01/04/2025        EVO         33.24            3   \n",
       "7     2001027        TRF  01/04/2025        EVO         19.74            1   \n",
       "8     2001797        TRF  01/04/2025        EVO         13.64            1   \n",
       "..        ...        ...         ...        ...   ...     ...      ...  ..   \n",
       "108   2264508        TRF  01/04/2025        PDX         37.56            2   \n",
       "109   2266861        TRF  01/04/2025        PDX        112.67            6   \n",
       "110   2268869        TRF  01/04/2025        PDX         29.82            2   \n",
       "111   2284608        TRF  01/04/2025        PDX         20.03            1   \n",
       "112   2287546        TRF  01/04/2025        PDX         19.16            1   \n",
       "\n",
       "    QTEUG TXREM TXTVA CODEPRODUITsource  \n",
       "4                 5.5     8445290251787  \n",
       "5                 5.5     8445290251787  \n",
       "6                 5.5     8445290664662  \n",
       "7                 5.5     8445291421127  \n",
       "8                 5.5     8000300414479  \n",
       "..    ...   ...   ...               ...  \n",
       "108               5.5     8445290736710  \n",
       "109               5.5     8445290736710  \n",
       "110               5.5     8445290000811  \n",
       "111               5.5     8445290695048  \n",
       "112               5.5     8445291421127  \n",
       "\n",
       "[3449 rows x 12 columns]"
      ]
     },
     "execution_count": 23,
     "metadata": {},
     "output_type": "execute_result"
    }
   ],
   "source": [
    "df_final"
   ]
  }
 ],
 "metadata": {
  "kernelspec": {
   "display_name": "base",
   "language": "python",
   "name": "python3"
  },
  "language_info": {
   "codemirror_mode": {
    "name": "ipython",
    "version": 3
   },
   "file_extension": ".py",
   "mimetype": "text/x-python",
   "name": "python",
   "nbconvert_exporter": "python",
   "pygments_lexer": "ipython3",
   "version": "3.12.7"
  }
 },
 "nbformat": 4,
 "nbformat_minor": 2
}
